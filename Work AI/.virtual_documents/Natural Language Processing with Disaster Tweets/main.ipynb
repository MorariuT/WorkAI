from textblob import TextBlob
import pprint
import nltk
import pandas as pd
from sklearn import linear_model
import numpy as np
import matplotlib.pyplot as plt
from matplotlib import cm
import random
from mpl_toolkits.mplot3d import Axes3D
from sklearn import preprocessing
from sklearn.neural_network import MLPClassifier
from sklearn.datasets import make_classification
from sklearn.model_selection import train_test_split
from sklearn.metrics import f1_score
import datetime
from nltk.corpus import stopwords 
from nltk.tokenize import word_tokenize 
from sklearn.linear_model import SGDRegressor


similarity_sentences = [
    "The area is ablaze!",
    "A major accident occurred!",
    "Aftershock felt in the region!",
    "Airplane accident reported!",
    "Ambulance dispatched to the scene!",
    "The city is annihilated!",
    "Complete annihilation witnessed!",
    "Apocalypse is upon us!",
    "It's like Armageddon here!",
    "Army deployed for rescue!",
    "Suspected arson caused the fire!",
    "Arsonist caught in the act!",
    "Attack reported downtown!",
    "The town was attacked!",
    "Avalanche buried the village!",
    "Battle broke out in the streets!",
    "Bioterror threat detected!",
    "Bioterrorism attack confirmed!",
    "Building engulfed in blaze!",
    "The forest is blazing!",
    "People are bleeding from injuries!",
    "The car blew up!",
    "Crops affected by blight!",
    "Blizzard warning issued!",
    "Blood everywhere after the crash!",
    "Bloody aftermath of the explosion!",
    "The building has blown up!",
    "Body bags being used for victims!",
    "Authorities are body bagging the dead.",
    "Many body bags seen at the site!",
    "Bomb squad on the scene!",
    "The area was bombed!",
    "Bombing in the city center!",
    "Bridge collapse reported!",
    "Buildings burning all around!",
    "Buildings on fire after the quake!",
    "Several people burned in the fire!",
    "Neighborhood burning uncontrollably!",
    "Burning buildings everywhere!",
    "Bush fires spreading rapidly!",
    "Casualties are mounting!",
    "Multiple casualties confirmed!",
    "Catastrophe struck the town!",
    "Catastrophic damage reported!",
    "Chemical emergency declared!",
    "Cliff fall injured several people!",
    "The building collapsed suddenly!",
    "Collapsed structures blocking roads!",
    "Cars collided on the highway!",
    "Two vehicles collided head-on!",
    "Massive collision on the freeway!",
    "Plane crash at the airport!",
    "The aircraft crashed into the sea!",
    "Crowd crush at the concert!",
    "The building was crushed!",
    "Curfew imposed after riots!",
    "Cyclone approaching the coast!",
    "Severe damage from the storm!",
    "Danger in the area, stay away!",
    "Several people found dead!",
    "Death toll rising!",
    "Dozens of deaths reported!",
    "Debris scattered everywhere!",
    "Heavy deluge flooded the city!",
    "Town completely deluged!",
    "Old building demolished!",
    "The house was demolished!",
    "Demolition of unsafe structures!",
    "Train derail caused chaos!",
    "Train derailed at high speed!",
    "Massive derailment occurred!",
    "The place looks desolate!",
    "Complete desolation observed!",
    "City destroyed by the storm!",
    "Neighborhood destroyed completely!",
    "Destruction on a massive scale!",
    "Device detonated by the bomb squad!",
    "Detonation heard across the city!",
    "Devastated by the flood!",
    "Devastation all around!",
    "A disaster just happened!",
    "Families displaced by the flood!",
    "Severe drought in the region!",
    "People drown in the river!",
    "Several drowned in the flood!",
    "Drowning incidents reported!",
    "Dust storm hitting the town!",
    "Earthquake shook the buildings!",
    "Person electrocuted in the storm!",
    "Several electrocuted by the wires!",
    "Emergency services on the way!",
    "Emergency plan activated!",
    "Fire engulfed the entire block!",
    "The epicenter was near the city!",
    "Evacuate the area immediately!",
    "Residents evacuated for safety!",
    "Mass evacuation in progress!",
    "The device might explode!",
    "The car exploded on impact!",
    "Explosion in the industrial area!",
    "Eyewitnesses report chaos!",
    "Famine spreading through the region!",
    "Fatal accident on the highway!",
    "Fatalities reported from the scene!",
    "Massive fatality count rising!",
    "Fear spreading among the people!",
    "Fire broke out in the forest!",
    "Fire truck on the way!",
    "First responders on site!",
    "Flames reaching high levels!",
    "Entire neighborhood flattened!",
    "Severe flooding reported!",
    "The river is flooding!",
    "Massive floods in the area!",
    "Forest fire spreading quickly!",
    "Forest fires out of control!",
    "Hailstorm warning issued!",
    "Hailstorm caused damage!",
    "Harm caused by the accident!",
    "Hazardous materials detected!",
    "Heat wave causing deaths!",
    "Hellfire engulfed the buildings!",
    "Plane hijack reported!",
    "Hurricane warning issued!",
    "Injured people need help!",
    "Many injuries reported!",
    "Injury count increasing!",
    "Town inundated by floodwaters!",
    "Inundation of streets reported!",
    "Landslide blocked the road!",
    "Lava flowing from the volcano!",
    "Loud bang heard in the city!",
    "Mass murder at the mall!",
    "Mass murderer caught!",
    "Massacre in the town center!",
    "Complete mayhem on the streets!",
    "Nuclear meltdown at the plant!",
    "Military involved in rescue!",
    "Mudslide buried several houses!",
    "Natural disaster struck!",
    "Nuclear disaster warning issued!",
    "Nuclear reactor leak detected!",
    "Town razed to the ground!",
    "Refugees fleeing the area!",
    "Rescue operations underway!",
    "Rescued from the rubble!",
    "Rescuers working tirelessly!",
    "Riot broke out in the city!",
    "Rioting in the downtown area!",
    "Rubble covering the streets!",
    "Buildings in ruin!",
    "Sandstorm approaching quickly!",
    "People screamed for help!",
    "Screaming heard after the explosion!",
    "Screams of the injured!",
    "Seismic activity detected!",
    "Sinkhole swallowed a car!",
    "Ship sinking rapidly!",
    "Sirens heard all over the city!",
    "Sirens blaring everywhere!",
    "Smoke filling the air!",
    "Snowstorm causing delays!",
    "Severe storm approaching!",
    "Stretcher used for the injured!",
    "Structural failure caused collapse!",
    "Suicide bomb threat reported!",
    "Suicide bomber at large!",
    "Suicide bombing in the market!",
    "Ship sunk off the coast!",
    "Survivors found in the rubble!",
    "Survived the catastrophe!",
    "Few survivors of the crash!",
    "Terrorism suspected in the attack!",
    "Terrorist threat ongoing!",
    "Tornado touching down!",
    "Tragedy struck the community!",
    "People trapped in the building!",
    "Trauma from the disaster!",
    "City in turmoil!",
    "Tsunami warning issued!",
    "Twister heading towards the city!",
    "Typhoon warning issued!",
    "Upheaval in the region!",
    "Violent storm caused havoc!",
    "Volcano erupted violently!",
    "Area looks like a war zone!",
    "Weapons found at the scene!",
    "Whirlwind approaching fast!",
    "Wild fires spreading rapidly!",
    "Wildfire burning out of control!",
    "Windstorm causing damage!",
    "Wounded people everywhere!",
    "Wounds being treated on site!",
    "Wreck of the car found!",
    "Wreckage scattered on the road!"];

disasster_coef = {};

word_ones = {};
word_zero = {};


def emotions(df):

    arrOb = [];
    arrPl = [];
    for tx in df['text']:
        text = tx
        blob = TextBlob(text)
        sentiment = blob.sentiment
        arrPl.append(sentiment.polarity);
        arrOb.append(sentiment.subjectivity);
    
    df['polarity'] = arrPl;
    df['subjectivity'] = arrOb;
    
    return df;

def addColKeywordCoef(row):
    keyword = row['keyword'];
    if(keyword in word_ones and keyword in word_zero):
        row['keyword_coef'] = word_ones[keyword] / word_zero[keyword];
    else:
        row['keyword_coef'] = 2.15;
    return row;

def cosine_similarity(text1, text2):
    X = text1
    Y = text2

    X_list = word_tokenize(X)  
    Y_list = word_tokenize(Y) 
    
    sw = stopwords.words('english')  
    l1 =[];
    l2 =[];

    X_set = {w for w in X_list if not w in sw}
    Y_set = {w for w in Y_list if not w in sw}
    
    rvector = X_set.union(Y_set)  
    #print(rvector);
    for w in rvector: 
        if w in X_set: l1.append(1)
        else: l1.append(0) 
        if w in Y_set: l2.append(1) 
        else: l2.append(0) 
    c = 0

    #print(l1, l2);

    
    
    for i in range(len(rvector)): 
            c += l1[i] * l2[i] 
    cosine = c / float((sum(l1)*sum(l2))**0.5) 
    return cosine;

def similarity_add(df):
    ans = [];
    for i in range(len(similarity_sentences)):
        sm_sim = 0
        for j in df['text']:
            sim = cosine_similarity(j, similarity_sentences[i]);
            sm_sim += sim;
        ans.append(sm_sim);
    df["SimilarityScore"] = ans;
    return df;

def add_to_coefs(row):
    if(row["keyword"] not in word_ones):
        word_ones[row["keyword"]] = 1;
    if(row["keyword"] not in word_zero):
        word_zero[row["keyword"]] = 1;
    if(row["target"] == 1):
        word_ones[row["keyword"]] += 1;
    else:
        word_zero[row["keyword"]] += 1;
    return row;

def calculate_coefs(row):
    keyword = row['keyword'];
    if(keyword == '0'):
        row["keyword_coef"] = 1;
        return row;

    if(keyword not in word_ones or keyword not in word_zero): 
        row["keyword_coef"] = 1;
        return row;

    row["keyword_coef"] = word_ones[keyword] / word_zero[keyword];
    return row;

def transform(df):
    df = emotions(df);
    df = similarity_add(df);
    # df = df.apply(add_to_coefs, axis = 1);
    # df = df.apply(calculate_coefs, axis = 1);
    return df;


df = pd.read_csv("train.csv");


#df = pd.read_csv("data_frame_transformed_train.csv");


#df = calculate_coefs(df);
df = transform(df);
#df.drop(columns=['id', 'keyword', 'location'], inplace=True);
display(df);


#df.to_csv("data_frame_transformed_train.csv", index=False);
#print(word_ones);
#print(word_zero);


ids = df['id'];
df.drop(columns=['text', 'id', 'keyword', 'location'], inplace=True);
display(df);


train, test = train_test_split(df, test_size=0.001);


features = train.drop(columns='target');
labels = train['target'];

features_test = test.drop(columns='target');
labels_test = test['target'];


display(features);


model = MLPClassifier(verbose=True, max_iter = 10000).fit(features, labels);


# input_real = pd.read_csv("test.csv");
# 
# input_real = similarity_add(input_real);
# input_real = input_real.apply(addColKeywordCoef, axis=1);

# input_real.to_csv("data_frame_trainsformed_test.csv");

# display(input_real);


data_set_test = pd.read_csv("data_frame_trainsformed_test.csv");
ids = data_set_test['id'];
data_set_test = emotions(data_set_test);
data_set_test.drop(columns=["keyword_coef", 'id', 'location', 'text'], inplace=True);
data_set_test = data_set_test.apply(addColKeywordCoef, axis=1);
data_set_test.drop(columns=['keyword', 'Unnamed: 0'], inplace=True);

display(data_set_test)





data_set_test = data_set_test[[c for c in features]];
display(data_set_test);


ans = pd.DataFrame(model.predict(data_set_test));
ans['id'] = ids;

ans = ans[['id', 0]];

ans.to_csv("ans.csv", index=False);


pred = model.predict(features_test);
print(f1_score(pred, labels_test))



