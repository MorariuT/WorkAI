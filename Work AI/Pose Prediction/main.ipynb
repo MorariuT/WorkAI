{
 "cells": [
  {
   "cell_type": "code",
   "execution_count": 27,
   "metadata": {},
   "outputs": [],
   "source": [
    "import pickle\n",
    "import pandas as pd\n",
    "import PIL"
   ]
  },
  {
   "cell_type": "code",
   "execution_count": 30,
   "metadata": {},
   "outputs": [],
   "source": [
    "data_dir = \"/Users/tudor/Downloads/imageFiles\"\n",
    "sequ_dir = \"/Users/tudor/Downloads/sequenceFiles\";\n"
   ]
  },
  {
   "cell_type": "code",
   "execution_count": 40,
   "metadata": {},
   "outputs": [
    {
     "name": "stdout",
     "output_type": "stream",
     "text": [
      "['/Users/tudor/Downloads/sequenceFiles/train/courtyard_bodyScannerMotions_00.pkl', '/Users/tudor/Downloads/sequenceFiles/train/courtyard_jacket_00.pkl', '/Users/tudor/Downloads/sequenceFiles/train/courtyard_laceShoe_00.pkl', '/Users/tudor/Downloads/sequenceFiles/train/courtyard_shakeHands_00.pkl', '/Users/tudor/Downloads/sequenceFiles/train/courtyard_backpack_00.pkl', '/Users/tudor/Downloads/sequenceFiles/train/courtyard_captureSelfies_00.pkl', '/Users/tudor/Downloads/sequenceFiles/train/courtyard_basketball_00.pkl', '/Users/tudor/Downloads/sequenceFiles/train/courtyard_capoeira_00.pkl', '/Users/tudor/Downloads/sequenceFiles/train/courtyard_giveDirections_00.pkl', '/Users/tudor/Downloads/sequenceFiles/train/courtyard_dancing_01.pkl', '/Users/tudor/Downloads/sequenceFiles/train/outdoors_slalom_00.pkl', '/Users/tudor/Downloads/sequenceFiles/train/outdoors_slalom_01.pkl', '/Users/tudor/Downloads/sequenceFiles/train/courtyard_relaxOnBench_01.pkl', '/Users/tudor/Downloads/sequenceFiles/train/courtyard_warmWelcome_00.pkl', '/Users/tudor/Downloads/sequenceFiles/train/courtyard_relaxOnBench_00.pkl', '/Users/tudor/Downloads/sequenceFiles/train/outdoors_climbing_00.pkl', '/Users/tudor/Downloads/sequenceFiles/train/courtyard_rangeOfMotions_00.pkl', '/Users/tudor/Downloads/sequenceFiles/train/outdoors_climbing_01.pkl', '/Users/tudor/Downloads/sequenceFiles/train/outdoors_freestyle_00.pkl', '/Users/tudor/Downloads/sequenceFiles/train/courtyard_arguing_00.pkl', '/Users/tudor/Downloads/sequenceFiles/train/courtyard_box_00.pkl', '/Users/tudor/Downloads/sequenceFiles/train/courtyard_goodNews_00.pkl', '/Users/tudor/Downloads/sequenceFiles/train/outdoors_climbing_02.pkl', '/Users/tudor/Downloads/sequenceFiles/train/courtyard_golf_00.pkl']\n",
      "(1, 1257, 3, 18)\n"
     ]
    }
   ],
   "source": [
    "import glob\n",
    "import numpy as np\n",
    "\n",
    "dirs_pick = glob.glob(sequ_dir + \"/train/*.pkl\");\n",
    "\n",
    "print(dirs_pick);\n",
    "\n",
    "for file in dirs_pick:\n",
    "    with open(file, 'rb') as f:\n",
    "        data = pickle.load(f, encoding=\"latin-1\")\n",
    "    print(np.array(data['poses2d']).shape);\n",
    "    break;"
   ]
  },
  {
   "cell_type": "code",
   "execution_count": null,
   "metadata": {},
   "outputs": [],
   "source": []
  }
 ],
 "metadata": {
  "language_info": {
   "name": "python"
  }
 },
 "nbformat": 4,
 "nbformat_minor": 2
}
