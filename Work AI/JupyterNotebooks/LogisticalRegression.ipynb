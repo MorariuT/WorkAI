{
 "cells": [
  {
   "cell_type": "code",
   "execution_count": 154,
   "metadata": {},
   "outputs": [],
   "source": [
    "from sklearn import linear_model\n",
    "import numpy as np\n",
    "import matplotlib.pyplot as plt\n",
    "from matplotlib import cm\n",
    "import random\n",
    "from mpl_toolkits.mplot3d import Axes3D"
   ]
  },
  {
   "cell_type": "code",
   "execution_count": 155,
   "metadata": {},
   "outputs": [],
   "source": [
    "def f(x, a, b):\n",
    "    return a * x + b"
   ]
  },
  {
   "cell_type": "code",
   "execution_count": 156,
   "metadata": {},
   "outputs": [
    {
     "name": "stdout",
     "output_type": "stream",
     "text": [
      "16\n"
     ]
    }
   ],
   "source": [
    "traing_points = 16;\n",
    "\n",
    "traing_points_x = [2, 1, 2, 1, 2.1, 2.1, 1.2, 2.1, 6, 5, 5, 5, 6, 5, 1, 4];\n",
    "traing_points_y = [1, 2, 2, 1, 1.3, 1.1, 1.0, 1, 10, 7, 6, 8, 9, 9, 10, 4];\n",
    "traing_points_z = [1, 1, 1, 1, 1, 1, 1, 1, 0, 0, 0, 0, 0, 0, 0, 1];\n",
    "traing_points_X = [];\n",
    "\n",
    "print(len(traing_points_z));\n",
    "\n",
    "traing_points_xy = [traing_points_x, traing_points_y];\n",
    "\n",
    "for i in range(traing_points):\n",
    "    traing_points_X.append([traing_points_x[i], traing_points_y[i]]);\n"
   ]
  },
  {
   "cell_type": "code",
   "execution_count": 157,
   "metadata": {},
   "outputs": [
    {
     "name": "stdout",
     "output_type": "stream",
     "text": [
      "[0]\n",
      "[[-0.41335818 -1.06198512]]\n",
      "1.0\n"
     ]
    },
    {
     "data": {
      "image/png": "[encoded data removed]",
      "text/plain": [
       "<Figure size 640x480 with 1 Axes>"
      ]
     },
     "metadata": {},
     "output_type": "display_data"
    }
   ],
   "source": [
    "fig = plt.figure()\n",
    "ax = fig.add_subplot()\n",
    "\n",
    "for i in range(traing_points):\n",
    "    if(traing_points_z[i] == 0):\n",
    "        ax.plot(traing_points_x[i], traing_points_y[i], 'bo');\n",
    "    else:\n",
    "        ax.plot(traing_points_x[i], traing_points_y[i], 'ro');\n",
    "\n",
    "\n",
    "model = linear_model.LogisticRegression();\n",
    "model.fit(traing_points_X, traing_points_z);\n",
    "pred = model.predict([[12, 10]]);\n",
    "print(pred);\n",
    "\n",
    "\n",
    "for i in range(12):\n",
    "    for j in range(12):\n",
    "        pred = model.predict([[i, j]]);\n",
    "        if(pred == [0]):\n",
    "            ax.plot(i, j, 'bx');\n",
    "        else:\n",
    "            ax.plot(i, j, 'gx');\n",
    "x = np.arange(-5, -3, 0.1);\n",
    "print(model.coef_);\n",
    "#ax.plot(f(x, model.coef_[0][0], model.coef_[0][1]));\n",
    "print(model.score(traing_points_X, traing_points_z));\n",
    "plt.plot(traing_points_x, traing_points_z, 'b--');\n",
    "\n",
    "plt.show();\n",
    "    \n"
   ]
  }
 ],
 "metadata": {
  "kernelspec": {
   "display_name": ".venv",
   "language": "python",
   "name": "python3"
  },
  "language_info": {
   "codemirror_mode": {
    "name": "ipython",
    "version": 3
   },
   "file_extension": ".py",
   "mimetype": "text/x-python",
   "name": "python",
   "nbconvert_exporter": "python",
   "pygments_lexer": "ipython3",
   "version": "3.9.6"
  }
 },
 "nbformat": 4,
 "nbformat_minor": 2
}
