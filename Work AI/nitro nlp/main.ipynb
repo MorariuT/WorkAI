{
 "cells": [
  {
   "cell_type": "code",
   "execution_count": null,
   "metadata": {},
   "outputs": [],
   "source": [
    "import pprint\n",
    "import nltk\n",
    "import pandas as pd\n",
    "from sklearn import linear_model\n",
    "import numpy as np\n",
    "import matplotlib.pyplot as plt\n",
    "from matplotlib import cm\n",
    "import random\n",
    "from mpl_toolkits.mplot3d import Axes3D\n",
    "from sklearn import preprocessing\n",
    "from sklearn.neural_network import MLPClassifier\n",
    "from sklearn.datasets import make_classification\n",
    "from sklearn.model_selection import train_test_split\n",
    "from sklearn.metrics import f1_score\n",
    "import datetime\n",
    "from sklearn.linear_model import SGDRegressor"
   ]
  },
  {
   "cell_type": "code",
   "execution_count": 26,
   "metadata": {},
   "outputs": [],
   "source": [
    "def makeDictionary(df):\n",
    "    for r in df['content']:\n",
    "        print(r);\n",
    "        break;"
   ]
  },
  {
   "cell_type": "code",
   "execution_count": 27,
   "metadata": {},
   "outputs": [
    {
     "name": "stdout",
     "output_type": "stream",
     "text": [
      "Prăbușirea PSD de la altitudinea sigură a celor 70% în incertitudinea legată de păstrarea guvernării a stîrnit groază în partid. Vulnerabil, instabil și pus în fața propriei prostii, PSD duce o luptă vizibilă cu depresia. Baronii fornăie ca o turmă cuprinsă de neliniște, pe care un singur zgomot brusc o poate pune pe fugă. Socotelile sînt clare: dacă pierde președinția, USD pierde tot, iar coșmarul revenirii lui Băsescu la putere pe căi democratice devine tot mai palpabil. Consultanții Sultănoiu, Teodorescu, Palada și Dîncu caută febrili o candidatură pentru Cotroceni, fiindcă Ponta n-ar vrea să lase guvernul. Pe de altă parte, sondajele estimează o victorie a Pisicului azi, dar nu și în noiembrie. Oprescu și Isărescu sînt plimbați prin fața eșantioanelor naționale, dar nici unul nu prezintă garanții destule partidului. Partidul dorește să-și vadă liderul pe tron, iar liderul înțelege că, dacă nu-și asumă responsabilitatea candidaturii, autoritatea i se fîsîie. În sfîrșit, imbecilii care au stăruit ca PSD să acapareze cît mai multe ministere prin ruperea USL văd grozăvia în care se găsește viitorul lor politic. În cazul în care va fi forțat să candideze, Ponta ia în calcul o ieșire din funcția de premier prin august, ca să se dedice campaniei și ca să se îndepărteze de ura firească pe care o trezește Guvernul. Postul ar rămîne în posesia unui vicepremier, probabil Dragnea, care să atragă fulgerele nemulțumirii asupra lui. Pe scurt, spaima în care se zbate PSD nu e egalată decît de veselia inconștientă a PNL.\n"
     ]
    },
    {
     "data": {
      "text/html": [
       "<div>\n",
       "<style scoped>\n",
       "    .dataframe tbody tr th:only-of-type {\n",
       "        vertical-align: middle;\n",
       "    }\n",
       "\n",
       "    .dataframe tbody tr th {\n",
       "        vertical-align: top;\n",
       "    }\n",
       "\n",
       "    .dataframe thead th {\n",
       "        text-align: right;\n",
       "    }\n",
       "</style>\n",
       "<table border=\"1\" class=\"dataframe\">\n",
       "  <thead>\n",
       "    <tr style=\"text-align: right;\">\n",
       "      <th></th>\n",
       "      <th>id</th>\n",
       "      <th>title</th>\n",
       "      <th>content</th>\n",
       "      <th>class</th>\n",
       "    </tr>\n",
       "  </thead>\n",
       "  <tbody>\n",
       "    <tr>\n",
       "      <th>0</th>\n",
       "      <td>0</td>\n",
       "      <td>PSD în alertă</td>\n",
       "      <td>Prăbușirea PSD de la altitudinea sigură a celo...</td>\n",
       "      <td>True</td>\n",
       "    </tr>\n",
       "    <tr>\n",
       "      <th>1</th>\n",
       "      <td>1</td>\n",
       "      <td>În amintirea Vioricăi, milioane de români beau...</td>\n",
       "      <td>Moțiunea de cenzură care a doborât guvernul Dă...</td>\n",
       "      <td>True</td>\n",
       "    </tr>\n",
       "    <tr>\n",
       "      <th>2</th>\n",
       "      <td>2</td>\n",
       "      <td>Dramă! Când credea că nu se poate mai rău, un ...</td>\n",
       "      <td>Credeai că ai ajuns la fundul sacului? Înseamn...</td>\n",
       "      <td>True</td>\n",
       "    </tr>\n",
       "    <tr>\n",
       "      <th>3</th>\n",
       "      <td>3</td>\n",
       "      <td>Spania - România, 5-0. „Tricolorii”, îngenunch...</td>\n",
       "      <td>Echipa națională a României a fost umilită, lu...</td>\n",
       "      <td>False</td>\n",
       "    </tr>\n",
       "    <tr>\n",
       "      <th>4</th>\n",
       "      <td>4</td>\n",
       "      <td>Campanie electorală, veselie generală</td>\n",
       "      <td>Toate cresc în campania electorală, cît n-au c...</td>\n",
       "      <td>True</td>\n",
       "    </tr>\n",
       "    <tr>\n",
       "      <th>...</th>\n",
       "      <td>...</td>\n",
       "      <td>...</td>\n",
       "      <td>...</td>\n",
       "      <td>...</td>\n",
       "    </tr>\n",
       "    <tr>\n",
       "      <th>70570</th>\n",
       "      <td>70570</td>\n",
       "      <td>Spații de cazare la mare înălțime. Refugiul Ie...</td>\n",
       "      <td>Pentru drumeția de azi, un echipaj de interven...</td>\n",
       "      <td>True</td>\n",
       "    </tr>\n",
       "    <tr>\n",
       "      <th>70571</th>\n",
       "      <td>70571</td>\n",
       "      <td>Sfântul Vali, colanții de la mall și miorița n...</td>\n",
       "      <td>Pe Mădălin nu l-a lăsat tac-su să termine opt ...</td>\n",
       "      <td>True</td>\n",
       "    </tr>\n",
       "    <tr>\n",
       "      <th>70572</th>\n",
       "      <td>70572</td>\n",
       "      <td>Banii sănătății unde e, banii sănătății ce-ați...</td>\n",
       "      <td>Reforma sănătății a început, în România, pe vr...</td>\n",
       "      <td>True</td>\n",
       "    </tr>\n",
       "    <tr>\n",
       "      <th>70573</th>\n",
       "      <td>70573</td>\n",
       "      <td>Pentru că nu poate da o lege să nu mai bată vâ...</td>\n",
       "      <td>Premierul Mihai Tudose a fost, din nou, deranj...</td>\n",
       "      <td>True</td>\n",
       "    </tr>\n",
       "    <tr>\n",
       "      <th>70574</th>\n",
       "      <td>70574</td>\n",
       "      <td>Ascuțiți Facebook-ul, vin alegerile!</td>\n",
       "      <td>Visul oricărui politician, fie el local sau aj...</td>\n",
       "      <td>True</td>\n",
       "    </tr>\n",
       "  </tbody>\n",
       "</table>\n",
       "<p>70575 rows × 4 columns</p>\n",
       "</div>"
      ],
      "text/plain": [
       "          id                                              title  \\\n",
       "0          0                                      PSD în alertă   \n",
       "1          1  În amintirea Vioricăi, milioane de români beau...   \n",
       "2          2  Dramă! Când credea că nu se poate mai rău, un ...   \n",
       "3          3  Spania - România, 5-0. „Tricolorii”, îngenunch...   \n",
       "4          4              Campanie electorală, veselie generală   \n",
       "...      ...                                                ...   \n",
       "70570  70570  Spații de cazare la mare înălțime. Refugiul Ie...   \n",
       "70571  70571  Sfântul Vali, colanții de la mall și miorița n...   \n",
       "70572  70572  Banii sănătății unde e, banii sănătății ce-ați...   \n",
       "70573  70573  Pentru că nu poate da o lege să nu mai bată vâ...   \n",
       "70574  70574               Ascuțiți Facebook-ul, vin alegerile!   \n",
       "\n",
       "                                                 content  class  \n",
       "0      Prăbușirea PSD de la altitudinea sigură a celo...   True  \n",
       "1      Moțiunea de cenzură care a doborât guvernul Dă...   True  \n",
       "2      Credeai că ai ajuns la fundul sacului? Înseamn...   True  \n",
       "3      Echipa națională a României a fost umilită, lu...  False  \n",
       "4      Toate cresc în campania electorală, cît n-au c...   True  \n",
       "...                                                  ...    ...  \n",
       "70570  Pentru drumeția de azi, un echipaj de interven...   True  \n",
       "70571  Pe Mădălin nu l-a lăsat tac-su să termine opt ...   True  \n",
       "70572  Reforma sănătății a început, în România, pe vr...   True  \n",
       "70573  Premierul Mihai Tudose a fost, din nou, deranj...   True  \n",
       "70574  Visul oricărui politician, fie el local sau aj...   True  \n",
       "\n",
       "[70575 rows x 4 columns]"
      ]
     },
     "metadata": {},
     "output_type": "display_data"
    }
   ],
   "source": [
    "train = pd.read_csv('train.csv');\n",
    "makeDictionary(train);\n",
    "display(train)"
   ]
  },
  {
   "cell_type": "code",
   "execution_count": 29,
   "metadata": {},
   "outputs": [
    {
     "name": "stdout",
     "output_type": "stream",
     "text": [
      "Sentiment(polarity=0.0, subjectivity=0.0)\n"
     ]
    }
   ],
   "source": [
    "from textblob import TextBlob\n",
    "\n",
    "text = \"Prăbușirea PSD de la altitudinea sigură a celor 70% în incertitudinea legată de păstrarea guvernării a stîrnit groază în partid. Vulnerabil, instabil și pus în fața propriei prostii, PSD duce o luptă vizibilă cu depresia. Baronii fornăie ca o turmă cuprinsă de neliniște, pe care un singur zgomot brusc o poate pune pe fugă. Socotelile sînt clare: dacă pierde președinția, USD pierde tot, iar coșmarul revenirii lui Băsescu la putere pe căi democratice devine tot mai palpabil. Consultanții Sultănoiu, Teodorescu, Palada și Dîncu caută febrili o candidatură pentru Cotroceni, fiindcă Ponta n-ar vrea să lase guvernul. Pe de altă parte, sondajele estimează o victorie a Pisicului azi, dar nu și în noiembrie. Oprescu și Isărescu sînt plimbați prin fața eșantioanelor naționale, dar nici unul nu prezintă garanții destule partidului. Partidul dorește să-și vadă liderul pe tron, iar liderul înțelege că, dacă nu-și asumă responsabilitatea candidaturii, autoritatea i se fîsîie. În sfîrșit, imbecilii care au stăruit ca PSD să acapareze cît mai multe ministere prin ruperea USL văd grozăvia în care se găsește viitorul lor politic. În cazul în care va fi forțat să candideze, Ponta ia în calcul o ieșire din funcția de premier prin august, ca să se dedice campaniei și ca să se îndepărteze de ura firească pe care o trezește Guvernul. Postul ar rămîne în posesia unui vicepremier, probabil Dragnea, care să atragă fulgerele nemulțumirii asupra lui. Pe scurt, spaima în care se zbate PSD nu e egalată decît de veselia inconștientă a PNL.\"\n",
    "blob = TextBlob(text)\n",
    "sentiment = blob.sentiment\n",
    "print(sentiment)"
   ]
  }
 ],
 "metadata": {
  "kernelspec": {
   "display_name": ".venv",
   "language": "python",
   "name": "python3"
  },
  "language_info": {
   "codemirror_mode": {
    "name": "ipython",
    "version": 3
   },
   "file_extension": ".py",
   "mimetype": "text/x-python",
   "name": "python",
   "nbconvert_exporter": "python",
   "pygments_lexer": "ipython3",
   "version": "3.9.6"
  }
 },
 "nbformat": 4,
 "nbformat_minor": 2
}
